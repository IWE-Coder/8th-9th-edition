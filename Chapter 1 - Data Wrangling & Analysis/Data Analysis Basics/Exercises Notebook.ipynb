{
 "cells": [
  {
   "cell_type": "markdown",
   "id": "241be017",
   "metadata": {},
   "source": [
    "# options"
   ]
  },
  {
   "cell_type": "code",
   "execution_count": 1,
   "id": "d84d3b57",
   "metadata": {},
   "outputs": [],
   "source": [
    "from IPython.core.interactiveshell import InteractiveShell\n",
    "InteractiveShell.ast_node_interactivity = \"all\""
   ]
  },
  {
   "cell_type": "markdown",
   "id": "5c7e8cfa",
   "metadata": {},
   "source": [
    "# Imports"
   ]
  },
  {
   "cell_type": "code",
   "execution_count": 2,
   "id": "803f01ec",
   "metadata": {},
   "outputs": [],
   "source": [
    "import pandas as pd\n",
    "import os"
   ]
  },
  {
   "cell_type": "markdown",
   "id": "b9e97334",
   "metadata": {},
   "source": [
    "# Exercise 1 - Read the data\n",
    "\n",
    "the file is under the folder data and is named `supermarket_sales.csv`"
   ]
  },
  {
   "cell_type": "code",
   "execution_count": 4,
   "id": "f8f3862a",
   "metadata": {},
   "outputs": [
    {
     "data": {
      "text/html": [
       "<div>\n",
       "<style scoped>\n",
       "    .dataframe tbody tr th:only-of-type {\n",
       "        vertical-align: middle;\n",
       "    }\n",
       "\n",
       "    .dataframe tbody tr th {\n",
       "        vertical-align: top;\n",
       "    }\n",
       "\n",
       "    .dataframe thead th {\n",
       "        text-align: right;\n",
       "    }\n",
       "</style>\n",
       "<table border=\"1\" class=\"dataframe\">\n",
       "  <thead>\n",
       "    <tr style=\"text-align: right;\">\n",
       "      <th></th>\n",
       "      <th>Invoice ID</th>\n",
       "      <th>Branch</th>\n",
       "      <th>City</th>\n",
       "      <th>Customer type</th>\n",
       "      <th>Gender</th>\n",
       "      <th>Product line</th>\n",
       "      <th>Unit price</th>\n",
       "      <th>Quantity</th>\n",
       "      <th>Tax 5%</th>\n",
       "      <th>Total</th>\n",
       "      <th>Date</th>\n",
       "      <th>Time</th>\n",
       "      <th>Payment</th>\n",
       "      <th>cogs</th>\n",
       "      <th>gross margin percentage</th>\n",
       "      <th>gross income</th>\n",
       "      <th>Rating</th>\n",
       "    </tr>\n",
       "  </thead>\n",
       "  <tbody>\n",
       "    <tr>\n",
       "      <th>0</th>\n",
       "      <td>750-67-8428</td>\n",
       "      <td>A</td>\n",
       "      <td>Yangon</td>\n",
       "      <td>Member</td>\n",
       "      <td>Female</td>\n",
       "      <td>Health and beauty</td>\n",
       "      <td>74.69</td>\n",
       "      <td>7</td>\n",
       "      <td>26.1415</td>\n",
       "      <td>548.9715</td>\n",
       "      <td>1/5/2019</td>\n",
       "      <td>13:08</td>\n",
       "      <td>Ewallet</td>\n",
       "      <td>522.83</td>\n",
       "      <td>4.761905</td>\n",
       "      <td>26.1415</td>\n",
       "      <td>9.1</td>\n",
       "    </tr>\n",
       "    <tr>\n",
       "      <th>1</th>\n",
       "      <td>226-31-3081</td>\n",
       "      <td>C</td>\n",
       "      <td>Naypyitaw</td>\n",
       "      <td>Normal</td>\n",
       "      <td>Female</td>\n",
       "      <td>Electronic accessories</td>\n",
       "      <td>15.28</td>\n",
       "      <td>5</td>\n",
       "      <td>3.8200</td>\n",
       "      <td>80.2200</td>\n",
       "      <td>3/8/2019</td>\n",
       "      <td>10:29</td>\n",
       "      <td>Cash</td>\n",
       "      <td>76.40</td>\n",
       "      <td>4.761905</td>\n",
       "      <td>3.8200</td>\n",
       "      <td>9.6</td>\n",
       "    </tr>\n",
       "    <tr>\n",
       "      <th>2</th>\n",
       "      <td>631-41-3108</td>\n",
       "      <td>A</td>\n",
       "      <td>Yangon</td>\n",
       "      <td>Normal</td>\n",
       "      <td>Male</td>\n",
       "      <td>Home and lifestyle</td>\n",
       "      <td>46.33</td>\n",
       "      <td>7</td>\n",
       "      <td>16.2155</td>\n",
       "      <td>340.5255</td>\n",
       "      <td>3/3/2019</td>\n",
       "      <td>13:23</td>\n",
       "      <td>Credit card</td>\n",
       "      <td>324.31</td>\n",
       "      <td>4.761905</td>\n",
       "      <td>16.2155</td>\n",
       "      <td>7.4</td>\n",
       "    </tr>\n",
       "    <tr>\n",
       "      <th>3</th>\n",
       "      <td>123-19-1176</td>\n",
       "      <td>A</td>\n",
       "      <td>Yangon</td>\n",
       "      <td>Member</td>\n",
       "      <td>Male</td>\n",
       "      <td>Health and beauty</td>\n",
       "      <td>58.22</td>\n",
       "      <td>8</td>\n",
       "      <td>23.2880</td>\n",
       "      <td>489.0480</td>\n",
       "      <td>1/27/2019</td>\n",
       "      <td>20:33</td>\n",
       "      <td>Ewallet</td>\n",
       "      <td>465.76</td>\n",
       "      <td>4.761905</td>\n",
       "      <td>23.2880</td>\n",
       "      <td>8.4</td>\n",
       "    </tr>\n",
       "    <tr>\n",
       "      <th>4</th>\n",
       "      <td>373-73-7910</td>\n",
       "      <td>A</td>\n",
       "      <td>Yangon</td>\n",
       "      <td>Normal</td>\n",
       "      <td>Male</td>\n",
       "      <td>Sports and travel</td>\n",
       "      <td>86.31</td>\n",
       "      <td>7</td>\n",
       "      <td>30.2085</td>\n",
       "      <td>634.3785</td>\n",
       "      <td>2/8/2019</td>\n",
       "      <td>10:37</td>\n",
       "      <td>Ewallet</td>\n",
       "      <td>604.17</td>\n",
       "      <td>4.761905</td>\n",
       "      <td>30.2085</td>\n",
       "      <td>5.3</td>\n",
       "    </tr>\n",
       "  </tbody>\n",
       "</table>\n",
       "</div>"
      ],
      "text/plain": [
       "    Invoice ID Branch       City Customer type  Gender  \\\n",
       "0  750-67-8428      A     Yangon        Member  Female   \n",
       "1  226-31-3081      C  Naypyitaw        Normal  Female   \n",
       "2  631-41-3108      A     Yangon        Normal    Male   \n",
       "3  123-19-1176      A     Yangon        Member    Male   \n",
       "4  373-73-7910      A     Yangon        Normal    Male   \n",
       "\n",
       "             Product line  Unit price  Quantity   Tax 5%     Total       Date  \\\n",
       "0       Health and beauty       74.69         7  26.1415  548.9715   1/5/2019   \n",
       "1  Electronic accessories       15.28         5   3.8200   80.2200   3/8/2019   \n",
       "2      Home and lifestyle       46.33         7  16.2155  340.5255   3/3/2019   \n",
       "3       Health and beauty       58.22         8  23.2880  489.0480  1/27/2019   \n",
       "4       Sports and travel       86.31         7  30.2085  634.3785   2/8/2019   \n",
       "\n",
       "    Time      Payment    cogs  gross margin percentage  gross income  Rating  \n",
       "0  13:08      Ewallet  522.83                 4.761905       26.1415     9.1  \n",
       "1  10:29         Cash   76.40                 4.761905        3.8200     9.6  \n",
       "2  13:23  Credit card  324.31                 4.761905       16.2155     7.4  \n",
       "3  20:33      Ewallet  465.76                 4.761905       23.2880     8.4  \n",
       "4  10:37      Ewallet  604.17                 4.761905       30.2085     5.3  "
      ]
     },
     "execution_count": 4,
     "metadata": {},
     "output_type": "execute_result"
    }
   ],
   "source": [
    "#df = pd.read_csv(...)\n",
    "df = pd.read_csv('./data/supermarket_sales.csv')\n",
    "df.head()"
   ]
  },
  {
   "cell_type": "markdown",
   "id": "fe0c40ec",
   "metadata": {},
   "source": [
    "# Documentation\n",
    "\n",
    "[source of dataset](https://www.kaggle.com/datasets/aungpyaeap/supermarket-sales)\n",
    "\n",
    "**Context**\n",
    "The growth of supermarkets in most populated cities are increasing and market competitions are also high. The dataset is one of the historical sales of supermarket company which has recorded in 3 different branches for 3 months data. Predictive data analytics methods are easy to apply with this dataset.\n",
    "\n",
    "**Attribute information**\n",
    "- **Invoice id**: Computer generated sales slip invoice identification number\n",
    "- **Branch**: Branch of supercenter (3 branches are available identified by A, B and C).\n",
    "- **City**: Location of supercenters\n",
    "- **Customer type**: Type of customers, recorded by Members for customers using member card and Normal for without member card.\n",
    "- **Gender**: Gender type of customer\n",
    "- **Product line**: General item categorization groups - Electronic accessories, Fashion accessories, Food and beverages, Health and beauty, Home and lifestyle, Sports and travel\n",
    "- **Unit price**: Price of each product in $\n",
    "- **Quantity**: Number of products purchased by customer\n",
    "- **Tax**: 5\\% tax fee for customer buying\n",
    "- **Total**: Total price including tax\n",
    "- **Date**: Date of purchase (Record available from January 2019 to March 2019)\n",
    "- **Time**: Purchase time (10am to 9pm)\n",
    "- **Payment**: Payment used by customer for purchase (3 methods are available – Cash, Credit card and Ewallet)\n",
    "- **COGS**: Cost of goods sold\n",
    "- **Gross margin percentage**: Gross margin percentage\n",
    "- **Gross income**: Gross income\n",
    "- **Rating**: Customer stratification rating on their overall shopping experience (On a scale of 1 to 10)"
   ]
  },
  {
   "cell_type": "markdown",
   "id": "3f998d35",
   "metadata": {},
   "source": [
    "# Exercise 1.1\n",
    "\n",
    "How many cities are there in this dataset?"
   ]
  },
  {
   "cell_type": "code",
   "execution_count": 9,
   "id": "b84ac60b",
   "metadata": {},
   "outputs": [
    {
     "data": {
      "text/plain": [
       "3"
      ]
     },
     "execution_count": 9,
     "metadata": {},
     "output_type": "execute_result"
    }
   ],
   "source": [
    "# n_cities = ...\n",
    "n_cities = df['City'].nunique()\n",
    "n_cities"
   ]
  },
  {
   "cell_type": "markdown",
   "id": "55971bae",
   "metadata": {},
   "source": [
    "# Exercise 1.2\n",
    "\n",
    "What is the average rating of items for this supermarket company?"
   ]
  },
  {
   "cell_type": "code",
   "execution_count": 11,
   "id": "936eeb7e",
   "metadata": {},
   "outputs": [
    {
     "data": {
      "text/plain": [
       "6.9727"
      ]
     },
     "execution_count": 11,
     "metadata": {},
     "output_type": "execute_result"
    }
   ],
   "source": [
    "# ...\n",
    "average_rating = df['Rating'].mean()\n",
    "average_rating"
   ]
  },
  {
   "cell_type": "markdown",
   "id": "5ad4319d",
   "metadata": {},
   "source": [
    "# Exercise 1.3 a)\n",
    "\n",
    "How do people prefer to pay in this supermarket? In other words, what is the distribution of the payment methods?\n"
   ]
  },
  {
   "cell_type": "code",
   "execution_count": 13,
   "id": "a6dd395c",
   "metadata": {},
   "outputs": [
    {
     "data": {
      "text/plain": [
       "Payment\n",
       "Ewallet        345\n",
       "Cash           344\n",
       "Credit card    311\n",
       "Name: count, dtype: int64"
      ]
     },
     "execution_count": 13,
     "metadata": {},
     "output_type": "execute_result"
    }
   ],
   "source": [
    "# ...\n",
    "payment_method = df['Payment'].value_counts()\n",
    "payment_method"
   ]
  },
  {
   "cell_type": "markdown",
   "id": "50de6b22",
   "metadata": {},
   "source": [
    "# Exercise 1.3 b)\n",
    "\n",
    "What about the distribution of gender of their costumers?"
   ]
  },
  {
   "cell_type": "code",
   "execution_count": 15,
   "id": "3ffee1dc",
   "metadata": {},
   "outputs": [
    {
     "data": {
      "text/plain": [
       "Gender\n",
       "Female    501\n",
       "Male      499\n",
       "Name: count, dtype: int64"
      ]
     },
     "execution_count": 15,
     "metadata": {},
     "output_type": "execute_result"
    }
   ],
   "source": [
    "# ...\n",
    "gender_distribution = df['Gender'].value_counts()\n",
    "gender_distribution"
   ]
  },
  {
   "cell_type": "markdown",
   "id": "d8a72dbf",
   "metadata": {},
   "source": [
    "# Exercise 1.4 a)\n",
    "\n",
    "What is the invoice ID of the most expensive purchase in this dataset?\n",
    "\n",
    "**hint**: The `Total` column represents the total cost of each purchase"
   ]
  },
  {
   "cell_type": "code",
   "execution_count": null,
   "id": "92d4c90a",
   "metadata": {},
   "outputs": [
    {
     "data": {
      "text/plain": [
       "Invoice ID    860-79-0874\n",
       "Name: 350, dtype: object"
      ]
     },
     "execution_count": 28,
     "metadata": {},
     "output_type": "execute_result"
    }
   ],
   "source": [
    "# invoice_id = ...\n",
    "index = df['Total'].idxmax()\n",
    "most_expensive_purchase_id = df.loc[index,['Invoice ID']]\n",
    "most_expensive_purchase_id"
   ]
  },
  {
   "cell_type": "markdown",
   "id": "0496df03",
   "metadata": {},
   "source": [
    "# Exercise 1.4 b)\n",
    "\n",
    "And what was its respective amount?"
   ]
  },
  {
   "cell_type": "code",
   "execution_count": 30,
   "id": "41074373",
   "metadata": {},
   "outputs": [
    {
     "data": {
      "text/plain": [
       "1042.65"
      ]
     },
     "execution_count": 30,
     "metadata": {},
     "output_type": "execute_result"
    }
   ],
   "source": [
    "# amount = ...\n",
    "amount = df['Total'].max()\n",
    "amount"
   ]
  },
  {
   "cell_type": "markdown",
   "id": "d840c48e",
   "metadata": {},
   "source": [
    "# Exercise 1.5 a)\n",
    "\n",
    "What was the product line of the purchase that generated the least gross income for the supermarket?"
   ]
  },
  {
   "cell_type": "code",
   "execution_count": 32,
   "id": "4e323324",
   "metadata": {},
   "outputs": [
    {
     "data": {
      "text/plain": [
       "Product line    Sports and travel\n",
       "Name: 822, dtype: object"
      ]
     },
     "execution_count": 32,
     "metadata": {},
     "output_type": "execute_result"
    }
   ],
   "source": [
    "# product_line = ...\n",
    "index = df['gross income'].idxmin()\n",
    "lowest_gross_income_product_line = df.loc[index,['Product line']]\n",
    "lowest_gross_income_product_line"
   ]
  },
  {
   "cell_type": "markdown",
   "id": "8b9825b2",
   "metadata": {},
   "source": [
    "# Exercise 1.5 b)\n",
    "\n",
    "And what was the amount of the gross income for that purchase?"
   ]
  },
  {
   "cell_type": "code",
   "execution_count": 34,
   "id": "84a8a767",
   "metadata": {},
   "outputs": [
    {
     "data": {
      "text/plain": [
       "0.5085"
      ]
     },
     "execution_count": 34,
     "metadata": {},
     "output_type": "execute_result"
    }
   ],
   "source": [
    "# lowest_gross_income = ...\n",
    "lowest_gross_income = df['gross income'].min()\n",
    "lowest_gross_income"
   ]
  },
  {
   "cell_type": "markdown",
   "id": "8cf613d7",
   "metadata": {},
   "source": [
    "# 2 - Masking"
   ]
  },
  {
   "cell_type": "markdown",
   "id": "ed7d32cc",
   "metadata": {},
   "source": [
    "# Exercise 2.1\n",
    "\n",
    "Who spends more on average, women or men?\n",
    "\n",
    "*hint*: `Total` column will help you with this"
   ]
  },
  {
   "cell_type": "code",
   "execution_count": null,
   "id": "7d785cc5",
   "metadata": {},
   "outputs": [],
   "source": []
  },
  {
   "cell_type": "markdown",
   "id": "e651dd0f",
   "metadata": {},
   "source": [
    "# Exercise 2.2\n",
    "\n",
    "In total, how much did customers pay in taxes in the city of Naypyitaw?"
   ]
  },
  {
   "cell_type": "code",
   "execution_count": null,
   "id": "00e435f2",
   "metadata": {},
   "outputs": [],
   "source": [
    "# total_taxes_Naypyitaw = ..."
   ]
  },
  {
   "cell_type": "markdown",
   "id": "6df3b957",
   "metadata": {},
   "source": [
    "# Exercise 2.3 a)\n",
    "\n",
    "What product line is more common for **men** to buy from?"
   ]
  },
  {
   "cell_type": "code",
   "execution_count": null,
   "id": "de25be9d",
   "metadata": {},
   "outputs": [],
   "source": [
    "# top_product_line_men = ..."
   ]
  },
  {
   "cell_type": "markdown",
   "id": "57cad739",
   "metadata": {},
   "source": [
    "# Exercise 2.3 b)\n",
    "\n",
    "What product line is more common for **women** to buy from?"
   ]
  },
  {
   "cell_type": "code",
   "execution_count": null,
   "id": "88e7c50d",
   "metadata": {},
   "outputs": [],
   "source": [
    "# top_product_line_women = ..."
   ]
  },
  {
   "cell_type": "markdown",
   "id": "40d93008",
   "metadata": {},
   "source": [
    "# Exercise 2.4\n",
    "\n",
    "What is the city with the highest average rating for their purchases?"
   ]
  },
  {
   "cell_type": "code",
   "execution_count": null,
   "id": "b5e7e51a",
   "metadata": {},
   "outputs": [],
   "source": []
  },
  {
   "cell_type": "markdown",
   "id": "24302437",
   "metadata": {},
   "source": [
    "# 3 - Plotting"
   ]
  },
  {
   "cell_type": "markdown",
   "id": "e7f75960",
   "metadata": {},
   "source": [
    "# Exercise 3.1\n",
    "\n",
    "What is the distribution of our Product line sales? \n",
    "\n",
    "**hint**: you want a bar plot for this"
   ]
  },
  {
   "cell_type": "code",
   "execution_count": null,
   "id": "55e33475",
   "metadata": {},
   "outputs": [],
   "source": [
    "# ..."
   ]
  },
  {
   "cell_type": "markdown",
   "id": "d46cade3",
   "metadata": {},
   "source": [
    "# Exercise 3.2\n",
    "\n",
    "What is the distribution of payments for the `Health and beauty` product line in this supermarket company? \n",
    "\n",
    "Use a histogram plot to analyze the distribution of payments (`Total` column)\n",
    "\n"
   ]
  },
  {
   "cell_type": "code",
   "execution_count": null,
   "id": "2375b2c7",
   "metadata": {},
   "outputs": [],
   "source": [
    "# ..."
   ]
  }
 ],
 "metadata": {
  "kernelspec": {
   "display_name": "base",
   "language": "python",
   "name": "python3"
  },
  "language_info": {
   "codemirror_mode": {
    "name": "ipython",
    "version": 3
   },
   "file_extension": ".py",
   "mimetype": "text/x-python",
   "name": "python",
   "nbconvert_exporter": "python",
   "pygments_lexer": "ipython3",
   "version": "3.12.4"
  }
 },
 "nbformat": 4,
 "nbformat_minor": 5
}
