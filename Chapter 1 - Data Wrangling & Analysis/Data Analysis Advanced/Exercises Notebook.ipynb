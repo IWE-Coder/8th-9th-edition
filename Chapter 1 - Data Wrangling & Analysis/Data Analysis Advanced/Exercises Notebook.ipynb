{
 "cells": [
  {
   "cell_type": "markdown",
   "id": "241be017",
   "metadata": {},
   "source": [
    "# options"
   ]
  },
  {
   "cell_type": "code",
   "execution_count": 161,
   "id": "d84d3b57",
   "metadata": {},
   "outputs": [],
   "source": [
    "from IPython.core.interactiveshell import InteractiveShell\n",
    "InteractiveShell.ast_node_interactivity = \"all\""
   ]
  },
  {
   "cell_type": "markdown",
   "id": "79d66baa",
   "metadata": {},
   "source": [
    "# Imports"
   ]
  },
  {
   "cell_type": "code",
   "execution_count": 162,
   "id": "cd5dd2ae",
   "metadata": {},
   "outputs": [],
   "source": [
    "import pandas as pd\n",
    "import matplotlib.pyplot as plt"
   ]
  },
  {
   "cell_type": "markdown",
   "id": "1350a0db",
   "metadata": {},
   "source": [
    "# Exercise 0 - Read the data\n",
    "\n",
    "the file is under the folder data and is named `supermarket_sales_V2.csv`"
   ]
  },
  {
   "cell_type": "code",
   "execution_count": 163,
   "id": "7e329281",
   "metadata": {},
   "outputs": [
    {
     "data": {
      "text/html": [
       "<div>\n",
       "<style scoped>\n",
       "    .dataframe tbody tr th:only-of-type {\n",
       "        vertical-align: middle;\n",
       "    }\n",
       "\n",
       "    .dataframe tbody tr th {\n",
       "        vertical-align: top;\n",
       "    }\n",
       "\n",
       "    .dataframe thead th {\n",
       "        text-align: right;\n",
       "    }\n",
       "</style>\n",
       "<table border=\"1\" class=\"dataframe\">\n",
       "  <thead>\n",
       "    <tr style=\"text-align: right;\">\n",
       "      <th></th>\n",
       "      <th>Invoice ID</th>\n",
       "      <th>Branch</th>\n",
       "      <th>City</th>\n",
       "      <th>Customer type</th>\n",
       "      <th>Gender</th>\n",
       "      <th>Product line</th>\n",
       "      <th>Unit price</th>\n",
       "      <th>Quantity</th>\n",
       "      <th>Date</th>\n",
       "      <th>Time</th>\n",
       "      <th>Payment</th>\n",
       "      <th>cogs</th>\n",
       "      <th>Rating</th>\n",
       "    </tr>\n",
       "  </thead>\n",
       "  <tbody>\n",
       "    <tr>\n",
       "      <th>0</th>\n",
       "      <td>750-67-8428</td>\n",
       "      <td>A</td>\n",
       "      <td>Yangon</td>\n",
       "      <td>Member</td>\n",
       "      <td>Female</td>\n",
       "      <td>Health and beauty</td>\n",
       "      <td>74.69</td>\n",
       "      <td>7</td>\n",
       "      <td>1/5/2019</td>\n",
       "      <td>13:08</td>\n",
       "      <td>Ewallet</td>\n",
       "      <td>522.83</td>\n",
       "      <td>9.1</td>\n",
       "    </tr>\n",
       "    <tr>\n",
       "      <th>1</th>\n",
       "      <td>226-31-3081</td>\n",
       "      <td>C</td>\n",
       "      <td>Naypyitaw</td>\n",
       "      <td>Normal</td>\n",
       "      <td>Female</td>\n",
       "      <td>Electronic accessories</td>\n",
       "      <td>15.28</td>\n",
       "      <td>5</td>\n",
       "      <td>3/8/2019</td>\n",
       "      <td>10:29</td>\n",
       "      <td>Cash</td>\n",
       "      <td>76.40</td>\n",
       "      <td>9.6</td>\n",
       "    </tr>\n",
       "    <tr>\n",
       "      <th>2</th>\n",
       "      <td>631-41-3108</td>\n",
       "      <td>A</td>\n",
       "      <td>Yangon</td>\n",
       "      <td>Normal</td>\n",
       "      <td>Male</td>\n",
       "      <td>Home and lifestyle</td>\n",
       "      <td>46.33</td>\n",
       "      <td>7</td>\n",
       "      <td>3/3/2019</td>\n",
       "      <td>13:23</td>\n",
       "      <td>Credit card</td>\n",
       "      <td>324.31</td>\n",
       "      <td>7.4</td>\n",
       "    </tr>\n",
       "  </tbody>\n",
       "</table>\n",
       "</div>"
      ],
      "text/plain": [
       "    Invoice ID Branch       City Customer type  Gender  \\\n",
       "0  750-67-8428      A     Yangon        Member  Female   \n",
       "1  226-31-3081      C  Naypyitaw        Normal  Female   \n",
       "2  631-41-3108      A     Yangon        Normal    Male   \n",
       "\n",
       "             Product line  Unit price  Quantity      Date   Time      Payment  \\\n",
       "0       Health and beauty       74.69         7  1/5/2019  13:08      Ewallet   \n",
       "1  Electronic accessories       15.28         5  3/8/2019  10:29         Cash   \n",
       "2      Home and lifestyle       46.33         7  3/3/2019  13:23  Credit card   \n",
       "\n",
       "     cogs  Rating  \n",
       "0  522.83     9.1  \n",
       "1   76.40     9.6  \n",
       "2  324.31     7.4  "
      ]
     },
     "execution_count": 163,
     "metadata": {},
     "output_type": "execute_result"
    },
    {
     "data": {
      "text/plain": [
       "(1000, 13)"
      ]
     },
     "execution_count": 163,
     "metadata": {},
     "output_type": "execute_result"
    }
   ],
   "source": [
    "df = pd.read_csv(\"./data/supermarket_sales_V2.csv\")\n",
    "df.head(3)\n",
    "df.shape"
   ]
  },
  {
   "cell_type": "markdown",
   "id": "65ae0ddf",
   "metadata": {},
   "source": [
    "This data contains the necessary info to compute the remaining columns:"
   ]
  },
  {
   "cell_type": "markdown",
   "id": "be18f29a",
   "metadata": {},
   "source": [
    "# Exercise 1 - Creating new columns"
   ]
  },
  {
   "cell_type": "markdown",
   "id": "85a9630c",
   "metadata": {},
   "source": [
    "## Exercise 1.1\n",
    "\n",
    "create a new column `Total (Before Taxes)` that represents the cost of the purchase before taxes obtained by multiplying the `quantity` by the `unit price`"
   ]
  },
  {
   "cell_type": "code",
   "execution_count": 164,
   "id": "c4355d75",
   "metadata": {},
   "outputs": [
    {
     "data": {
      "text/html": [
       "<div>\n",
       "<style scoped>\n",
       "    .dataframe tbody tr th:only-of-type {\n",
       "        vertical-align: middle;\n",
       "    }\n",
       "\n",
       "    .dataframe tbody tr th {\n",
       "        vertical-align: top;\n",
       "    }\n",
       "\n",
       "    .dataframe thead th {\n",
       "        text-align: right;\n",
       "    }\n",
       "</style>\n",
       "<table border=\"1\" class=\"dataframe\">\n",
       "  <thead>\n",
       "    <tr style=\"text-align: right;\">\n",
       "      <th></th>\n",
       "      <th>Invoice ID</th>\n",
       "      <th>Branch</th>\n",
       "      <th>City</th>\n",
       "      <th>Customer type</th>\n",
       "      <th>Gender</th>\n",
       "      <th>Product line</th>\n",
       "      <th>Unit price</th>\n",
       "      <th>Quantity</th>\n",
       "      <th>Date</th>\n",
       "      <th>Time</th>\n",
       "      <th>Payment</th>\n",
       "      <th>cogs</th>\n",
       "      <th>Rating</th>\n",
       "      <th>Total (Before Taxes)</th>\n",
       "    </tr>\n",
       "  </thead>\n",
       "  <tbody>\n",
       "    <tr>\n",
       "      <th>0</th>\n",
       "      <td>750-67-8428</td>\n",
       "      <td>A</td>\n",
       "      <td>Yangon</td>\n",
       "      <td>Member</td>\n",
       "      <td>Female</td>\n",
       "      <td>Health and beauty</td>\n",
       "      <td>74.69</td>\n",
       "      <td>7</td>\n",
       "      <td>1/5/2019</td>\n",
       "      <td>13:08</td>\n",
       "      <td>Ewallet</td>\n",
       "      <td>522.83</td>\n",
       "      <td>9.1</td>\n",
       "      <td>522.83</td>\n",
       "    </tr>\n",
       "    <tr>\n",
       "      <th>1</th>\n",
       "      <td>226-31-3081</td>\n",
       "      <td>C</td>\n",
       "      <td>Naypyitaw</td>\n",
       "      <td>Normal</td>\n",
       "      <td>Female</td>\n",
       "      <td>Electronic accessories</td>\n",
       "      <td>15.28</td>\n",
       "      <td>5</td>\n",
       "      <td>3/8/2019</td>\n",
       "      <td>10:29</td>\n",
       "      <td>Cash</td>\n",
       "      <td>76.40</td>\n",
       "      <td>9.6</td>\n",
       "      <td>76.40</td>\n",
       "    </tr>\n",
       "    <tr>\n",
       "      <th>2</th>\n",
       "      <td>631-41-3108</td>\n",
       "      <td>A</td>\n",
       "      <td>Yangon</td>\n",
       "      <td>Normal</td>\n",
       "      <td>Male</td>\n",
       "      <td>Home and lifestyle</td>\n",
       "      <td>46.33</td>\n",
       "      <td>7</td>\n",
       "      <td>3/3/2019</td>\n",
       "      <td>13:23</td>\n",
       "      <td>Credit card</td>\n",
       "      <td>324.31</td>\n",
       "      <td>7.4</td>\n",
       "      <td>324.31</td>\n",
       "    </tr>\n",
       "  </tbody>\n",
       "</table>\n",
       "</div>"
      ],
      "text/plain": [
       "    Invoice ID Branch       City Customer type  Gender  \\\n",
       "0  750-67-8428      A     Yangon        Member  Female   \n",
       "1  226-31-3081      C  Naypyitaw        Normal  Female   \n",
       "2  631-41-3108      A     Yangon        Normal    Male   \n",
       "\n",
       "             Product line  Unit price  Quantity      Date   Time      Payment  \\\n",
       "0       Health and beauty       74.69         7  1/5/2019  13:08      Ewallet   \n",
       "1  Electronic accessories       15.28         5  3/8/2019  10:29         Cash   \n",
       "2      Home and lifestyle       46.33         7  3/3/2019  13:23  Credit card   \n",
       "\n",
       "     cogs  Rating  Total (Before Taxes)  \n",
       "0  522.83     9.1                522.83  \n",
       "1   76.40     9.6                 76.40  \n",
       "2  324.31     7.4                324.31  "
      ]
     },
     "execution_count": 164,
     "metadata": {},
     "output_type": "execute_result"
    }
   ],
   "source": [
    "# df['Total (Before Taxes)'] = ...\n",
    "df['Total (Before Taxes)'] = df['Unit price']*df['Quantity']\n",
    "df.head(3)"
   ]
  },
  {
   "cell_type": "markdown",
   "id": "7370f310",
   "metadata": {},
   "source": [
    "## Exercise 1.2\n",
    "\n",
    "> Create a new column `Tax 7%` that represents a 7% of the `Total (Before Taxes)`"
   ]
  },
  {
   "cell_type": "code",
   "execution_count": 165,
   "id": "c86f59c7",
   "metadata": {},
   "outputs": [
    {
     "data": {
      "text/html": [
       "<div>\n",
       "<style scoped>\n",
       "    .dataframe tbody tr th:only-of-type {\n",
       "        vertical-align: middle;\n",
       "    }\n",
       "\n",
       "    .dataframe tbody tr th {\n",
       "        vertical-align: top;\n",
       "    }\n",
       "\n",
       "    .dataframe thead th {\n",
       "        text-align: right;\n",
       "    }\n",
       "</style>\n",
       "<table border=\"1\" class=\"dataframe\">\n",
       "  <thead>\n",
       "    <tr style=\"text-align: right;\">\n",
       "      <th></th>\n",
       "      <th>Invoice ID</th>\n",
       "      <th>Branch</th>\n",
       "      <th>City</th>\n",
       "      <th>Customer type</th>\n",
       "      <th>Gender</th>\n",
       "      <th>Product line</th>\n",
       "      <th>Unit price</th>\n",
       "      <th>Quantity</th>\n",
       "      <th>Date</th>\n",
       "      <th>Time</th>\n",
       "      <th>Payment</th>\n",
       "      <th>cogs</th>\n",
       "      <th>Rating</th>\n",
       "      <th>Total (Before Taxes)</th>\n",
       "      <th>Tax 7%</th>\n",
       "    </tr>\n",
       "  </thead>\n",
       "  <tbody>\n",
       "    <tr>\n",
       "      <th>0</th>\n",
       "      <td>750-67-8428</td>\n",
       "      <td>A</td>\n",
       "      <td>Yangon</td>\n",
       "      <td>Member</td>\n",
       "      <td>Female</td>\n",
       "      <td>Health and beauty</td>\n",
       "      <td>74.69</td>\n",
       "      <td>7</td>\n",
       "      <td>1/5/2019</td>\n",
       "      <td>13:08</td>\n",
       "      <td>Ewallet</td>\n",
       "      <td>522.83</td>\n",
       "      <td>9.1</td>\n",
       "      <td>522.83</td>\n",
       "      <td>36.5981</td>\n",
       "    </tr>\n",
       "    <tr>\n",
       "      <th>1</th>\n",
       "      <td>226-31-3081</td>\n",
       "      <td>C</td>\n",
       "      <td>Naypyitaw</td>\n",
       "      <td>Normal</td>\n",
       "      <td>Female</td>\n",
       "      <td>Electronic accessories</td>\n",
       "      <td>15.28</td>\n",
       "      <td>5</td>\n",
       "      <td>3/8/2019</td>\n",
       "      <td>10:29</td>\n",
       "      <td>Cash</td>\n",
       "      <td>76.40</td>\n",
       "      <td>9.6</td>\n",
       "      <td>76.40</td>\n",
       "      <td>5.3480</td>\n",
       "    </tr>\n",
       "    <tr>\n",
       "      <th>2</th>\n",
       "      <td>631-41-3108</td>\n",
       "      <td>A</td>\n",
       "      <td>Yangon</td>\n",
       "      <td>Normal</td>\n",
       "      <td>Male</td>\n",
       "      <td>Home and lifestyle</td>\n",
       "      <td>46.33</td>\n",
       "      <td>7</td>\n",
       "      <td>3/3/2019</td>\n",
       "      <td>13:23</td>\n",
       "      <td>Credit card</td>\n",
       "      <td>324.31</td>\n",
       "      <td>7.4</td>\n",
       "      <td>324.31</td>\n",
       "      <td>22.7017</td>\n",
       "    </tr>\n",
       "  </tbody>\n",
       "</table>\n",
       "</div>"
      ],
      "text/plain": [
       "    Invoice ID Branch       City Customer type  Gender  \\\n",
       "0  750-67-8428      A     Yangon        Member  Female   \n",
       "1  226-31-3081      C  Naypyitaw        Normal  Female   \n",
       "2  631-41-3108      A     Yangon        Normal    Male   \n",
       "\n",
       "             Product line  Unit price  Quantity      Date   Time      Payment  \\\n",
       "0       Health and beauty       74.69         7  1/5/2019  13:08      Ewallet   \n",
       "1  Electronic accessories       15.28         5  3/8/2019  10:29         Cash   \n",
       "2      Home and lifestyle       46.33         7  3/3/2019  13:23  Credit card   \n",
       "\n",
       "     cogs  Rating  Total (Before Taxes)   Tax 7%  \n",
       "0  522.83     9.1                522.83  36.5981  \n",
       "1   76.40     9.6                 76.40   5.3480  \n",
       "2  324.31     7.4                324.31  22.7017  "
      ]
     },
     "execution_count": 165,
     "metadata": {},
     "output_type": "execute_result"
    }
   ],
   "source": [
    "# df['Tax 7%'] = ...\n",
    "df['Tax 7%'] = df['Total (Before Taxes)']*0.07\n",
    "df.head(3)"
   ]
  },
  {
   "cell_type": "markdown",
   "id": "b2732210",
   "metadata": {},
   "source": [
    "## Exercise 1.3\n",
    "> Create a new column `Total` that represents the `Total (Before Taxes)` added with the `Tax 7%`"
   ]
  },
  {
   "cell_type": "code",
   "execution_count": 166,
   "id": "4d86a474",
   "metadata": {},
   "outputs": [
    {
     "data": {
      "text/html": [
       "<div>\n",
       "<style scoped>\n",
       "    .dataframe tbody tr th:only-of-type {\n",
       "        vertical-align: middle;\n",
       "    }\n",
       "\n",
       "    .dataframe tbody tr th {\n",
       "        vertical-align: top;\n",
       "    }\n",
       "\n",
       "    .dataframe thead th {\n",
       "        text-align: right;\n",
       "    }\n",
       "</style>\n",
       "<table border=\"1\" class=\"dataframe\">\n",
       "  <thead>\n",
       "    <tr style=\"text-align: right;\">\n",
       "      <th></th>\n",
       "      <th>Invoice ID</th>\n",
       "      <th>Branch</th>\n",
       "      <th>City</th>\n",
       "      <th>Customer type</th>\n",
       "      <th>Gender</th>\n",
       "      <th>Product line</th>\n",
       "      <th>Unit price</th>\n",
       "      <th>Quantity</th>\n",
       "      <th>Date</th>\n",
       "      <th>Time</th>\n",
       "      <th>Payment</th>\n",
       "      <th>cogs</th>\n",
       "      <th>Rating</th>\n",
       "      <th>Total (Before Taxes)</th>\n",
       "      <th>Tax 7%</th>\n",
       "      <th>Total</th>\n",
       "    </tr>\n",
       "  </thead>\n",
       "  <tbody>\n",
       "    <tr>\n",
       "      <th>0</th>\n",
       "      <td>750-67-8428</td>\n",
       "      <td>A</td>\n",
       "      <td>Yangon</td>\n",
       "      <td>Member</td>\n",
       "      <td>Female</td>\n",
       "      <td>Health and beauty</td>\n",
       "      <td>74.69</td>\n",
       "      <td>7</td>\n",
       "      <td>1/5/2019</td>\n",
       "      <td>13:08</td>\n",
       "      <td>Ewallet</td>\n",
       "      <td>522.83</td>\n",
       "      <td>9.1</td>\n",
       "      <td>522.83</td>\n",
       "      <td>36.5981</td>\n",
       "      <td>559.4281</td>\n",
       "    </tr>\n",
       "    <tr>\n",
       "      <th>1</th>\n",
       "      <td>226-31-3081</td>\n",
       "      <td>C</td>\n",
       "      <td>Naypyitaw</td>\n",
       "      <td>Normal</td>\n",
       "      <td>Female</td>\n",
       "      <td>Electronic accessories</td>\n",
       "      <td>15.28</td>\n",
       "      <td>5</td>\n",
       "      <td>3/8/2019</td>\n",
       "      <td>10:29</td>\n",
       "      <td>Cash</td>\n",
       "      <td>76.40</td>\n",
       "      <td>9.6</td>\n",
       "      <td>76.40</td>\n",
       "      <td>5.3480</td>\n",
       "      <td>81.7480</td>\n",
       "    </tr>\n",
       "    <tr>\n",
       "      <th>2</th>\n",
       "      <td>631-41-3108</td>\n",
       "      <td>A</td>\n",
       "      <td>Yangon</td>\n",
       "      <td>Normal</td>\n",
       "      <td>Male</td>\n",
       "      <td>Home and lifestyle</td>\n",
       "      <td>46.33</td>\n",
       "      <td>7</td>\n",
       "      <td>3/3/2019</td>\n",
       "      <td>13:23</td>\n",
       "      <td>Credit card</td>\n",
       "      <td>324.31</td>\n",
       "      <td>7.4</td>\n",
       "      <td>324.31</td>\n",
       "      <td>22.7017</td>\n",
       "      <td>347.0117</td>\n",
       "    </tr>\n",
       "  </tbody>\n",
       "</table>\n",
       "</div>"
      ],
      "text/plain": [
       "    Invoice ID Branch       City Customer type  Gender  \\\n",
       "0  750-67-8428      A     Yangon        Member  Female   \n",
       "1  226-31-3081      C  Naypyitaw        Normal  Female   \n",
       "2  631-41-3108      A     Yangon        Normal    Male   \n",
       "\n",
       "             Product line  Unit price  Quantity      Date   Time      Payment  \\\n",
       "0       Health and beauty       74.69         7  1/5/2019  13:08      Ewallet   \n",
       "1  Electronic accessories       15.28         5  3/8/2019  10:29         Cash   \n",
       "2      Home and lifestyle       46.33         7  3/3/2019  13:23  Credit card   \n",
       "\n",
       "     cogs  Rating  Total (Before Taxes)   Tax 7%     Total  \n",
       "0  522.83     9.1                522.83  36.5981  559.4281  \n",
       "1   76.40     9.6                 76.40   5.3480   81.7480  \n",
       "2  324.31     7.4                324.31  22.7017  347.0117  "
      ]
     },
     "execution_count": 166,
     "metadata": {},
     "output_type": "execute_result"
    }
   ],
   "source": [
    "# df['Total'] = ...\n",
    "df['Total'] = df['Tax 7%'] + df['Total (Before Taxes)']\n",
    "df.head(3)"
   ]
  },
  {
   "cell_type": "markdown",
   "id": "e8288a43",
   "metadata": {},
   "source": [
    "## Exercise 1.4\n",
    "> Create a new column `gross income` that represents the Total minus the cost of goods sold `cogs`"
   ]
  },
  {
   "cell_type": "code",
   "execution_count": 167,
   "id": "960ce0ce",
   "metadata": {},
   "outputs": [
    {
     "data": {
      "text/html": [
       "<div>\n",
       "<style scoped>\n",
       "    .dataframe tbody tr th:only-of-type {\n",
       "        vertical-align: middle;\n",
       "    }\n",
       "\n",
       "    .dataframe tbody tr th {\n",
       "        vertical-align: top;\n",
       "    }\n",
       "\n",
       "    .dataframe thead th {\n",
       "        text-align: right;\n",
       "    }\n",
       "</style>\n",
       "<table border=\"1\" class=\"dataframe\">\n",
       "  <thead>\n",
       "    <tr style=\"text-align: right;\">\n",
       "      <th></th>\n",
       "      <th>Invoice ID</th>\n",
       "      <th>Branch</th>\n",
       "      <th>City</th>\n",
       "      <th>Customer type</th>\n",
       "      <th>Gender</th>\n",
       "      <th>Product line</th>\n",
       "      <th>Unit price</th>\n",
       "      <th>Quantity</th>\n",
       "      <th>Date</th>\n",
       "      <th>Time</th>\n",
       "      <th>Payment</th>\n",
       "      <th>cogs</th>\n",
       "      <th>Rating</th>\n",
       "      <th>Total (Before Taxes)</th>\n",
       "      <th>Tax 7%</th>\n",
       "      <th>Total</th>\n",
       "      <th>gross income</th>\n",
       "    </tr>\n",
       "  </thead>\n",
       "  <tbody>\n",
       "    <tr>\n",
       "      <th>0</th>\n",
       "      <td>750-67-8428</td>\n",
       "      <td>A</td>\n",
       "      <td>Yangon</td>\n",
       "      <td>Member</td>\n",
       "      <td>Female</td>\n",
       "      <td>Health and beauty</td>\n",
       "      <td>74.69</td>\n",
       "      <td>7</td>\n",
       "      <td>1/5/2019</td>\n",
       "      <td>13:08</td>\n",
       "      <td>Ewallet</td>\n",
       "      <td>522.83</td>\n",
       "      <td>9.1</td>\n",
       "      <td>522.83</td>\n",
       "      <td>36.5981</td>\n",
       "      <td>559.4281</td>\n",
       "      <td>36.5981</td>\n",
       "    </tr>\n",
       "    <tr>\n",
       "      <th>1</th>\n",
       "      <td>226-31-3081</td>\n",
       "      <td>C</td>\n",
       "      <td>Naypyitaw</td>\n",
       "      <td>Normal</td>\n",
       "      <td>Female</td>\n",
       "      <td>Electronic accessories</td>\n",
       "      <td>15.28</td>\n",
       "      <td>5</td>\n",
       "      <td>3/8/2019</td>\n",
       "      <td>10:29</td>\n",
       "      <td>Cash</td>\n",
       "      <td>76.40</td>\n",
       "      <td>9.6</td>\n",
       "      <td>76.40</td>\n",
       "      <td>5.3480</td>\n",
       "      <td>81.7480</td>\n",
       "      <td>5.3480</td>\n",
       "    </tr>\n",
       "    <tr>\n",
       "      <th>2</th>\n",
       "      <td>631-41-3108</td>\n",
       "      <td>A</td>\n",
       "      <td>Yangon</td>\n",
       "      <td>Normal</td>\n",
       "      <td>Male</td>\n",
       "      <td>Home and lifestyle</td>\n",
       "      <td>46.33</td>\n",
       "      <td>7</td>\n",
       "      <td>3/3/2019</td>\n",
       "      <td>13:23</td>\n",
       "      <td>Credit card</td>\n",
       "      <td>324.31</td>\n",
       "      <td>7.4</td>\n",
       "      <td>324.31</td>\n",
       "      <td>22.7017</td>\n",
       "      <td>347.0117</td>\n",
       "      <td>22.7017</td>\n",
       "    </tr>\n",
       "  </tbody>\n",
       "</table>\n",
       "</div>"
      ],
      "text/plain": [
       "    Invoice ID Branch       City Customer type  Gender  \\\n",
       "0  750-67-8428      A     Yangon        Member  Female   \n",
       "1  226-31-3081      C  Naypyitaw        Normal  Female   \n",
       "2  631-41-3108      A     Yangon        Normal    Male   \n",
       "\n",
       "             Product line  Unit price  Quantity      Date   Time      Payment  \\\n",
       "0       Health and beauty       74.69         7  1/5/2019  13:08      Ewallet   \n",
       "1  Electronic accessories       15.28         5  3/8/2019  10:29         Cash   \n",
       "2      Home and lifestyle       46.33         7  3/3/2019  13:23  Credit card   \n",
       "\n",
       "     cogs  Rating  Total (Before Taxes)   Tax 7%     Total  gross income  \n",
       "0  522.83     9.1                522.83  36.5981  559.4281       36.5981  \n",
       "1   76.40     9.6                 76.40   5.3480   81.7480        5.3480  \n",
       "2  324.31     7.4                324.31  22.7017  347.0117       22.7017  "
      ]
     },
     "execution_count": 167,
     "metadata": {},
     "output_type": "execute_result"
    }
   ],
   "source": [
    "# df['gross income'] = ...\n",
    "df['gross income'] = df['Total'] - df['cogs']\n",
    "df.head(3)"
   ]
  },
  {
   "cell_type": "markdown",
   "id": "2b851338",
   "metadata": {},
   "source": [
    "## Exercise 1.5\n",
    "> Create a new column `gross margin percentage` that represents the `gross income` as a percentage of the `Total`"
   ]
  },
  {
   "cell_type": "code",
   "execution_count": 168,
   "id": "c7d0938a",
   "metadata": {},
   "outputs": [
    {
     "data": {
      "text/html": [
       "<div>\n",
       "<style scoped>\n",
       "    .dataframe tbody tr th:only-of-type {\n",
       "        vertical-align: middle;\n",
       "    }\n",
       "\n",
       "    .dataframe tbody tr th {\n",
       "        vertical-align: top;\n",
       "    }\n",
       "\n",
       "    .dataframe thead th {\n",
       "        text-align: right;\n",
       "    }\n",
       "</style>\n",
       "<table border=\"1\" class=\"dataframe\">\n",
       "  <thead>\n",
       "    <tr style=\"text-align: right;\">\n",
       "      <th></th>\n",
       "      <th>Invoice ID</th>\n",
       "      <th>Branch</th>\n",
       "      <th>City</th>\n",
       "      <th>Customer type</th>\n",
       "      <th>Gender</th>\n",
       "      <th>Product line</th>\n",
       "      <th>Unit price</th>\n",
       "      <th>Quantity</th>\n",
       "      <th>Date</th>\n",
       "      <th>Time</th>\n",
       "      <th>Payment</th>\n",
       "      <th>cogs</th>\n",
       "      <th>Rating</th>\n",
       "      <th>Total (Before Taxes)</th>\n",
       "      <th>Tax 7%</th>\n",
       "      <th>Total</th>\n",
       "      <th>gross income</th>\n",
       "      <th>gross margin percentage</th>\n",
       "    </tr>\n",
       "  </thead>\n",
       "  <tbody>\n",
       "    <tr>\n",
       "      <th>0</th>\n",
       "      <td>750-67-8428</td>\n",
       "      <td>A</td>\n",
       "      <td>Yangon</td>\n",
       "      <td>Member</td>\n",
       "      <td>Female</td>\n",
       "      <td>Health and beauty</td>\n",
       "      <td>74.69</td>\n",
       "      <td>7</td>\n",
       "      <td>1/5/2019</td>\n",
       "      <td>13:08</td>\n",
       "      <td>Ewallet</td>\n",
       "      <td>522.83</td>\n",
       "      <td>9.1</td>\n",
       "      <td>522.83</td>\n",
       "      <td>36.5981</td>\n",
       "      <td>559.4281</td>\n",
       "      <td>36.5981</td>\n",
       "      <td>6.542056</td>\n",
       "    </tr>\n",
       "    <tr>\n",
       "      <th>1</th>\n",
       "      <td>226-31-3081</td>\n",
       "      <td>C</td>\n",
       "      <td>Naypyitaw</td>\n",
       "      <td>Normal</td>\n",
       "      <td>Female</td>\n",
       "      <td>Electronic accessories</td>\n",
       "      <td>15.28</td>\n",
       "      <td>5</td>\n",
       "      <td>3/8/2019</td>\n",
       "      <td>10:29</td>\n",
       "      <td>Cash</td>\n",
       "      <td>76.40</td>\n",
       "      <td>9.6</td>\n",
       "      <td>76.40</td>\n",
       "      <td>5.3480</td>\n",
       "      <td>81.7480</td>\n",
       "      <td>5.3480</td>\n",
       "      <td>6.542056</td>\n",
       "    </tr>\n",
       "    <tr>\n",
       "      <th>2</th>\n",
       "      <td>631-41-3108</td>\n",
       "      <td>A</td>\n",
       "      <td>Yangon</td>\n",
       "      <td>Normal</td>\n",
       "      <td>Male</td>\n",
       "      <td>Home and lifestyle</td>\n",
       "      <td>46.33</td>\n",
       "      <td>7</td>\n",
       "      <td>3/3/2019</td>\n",
       "      <td>13:23</td>\n",
       "      <td>Credit card</td>\n",
       "      <td>324.31</td>\n",
       "      <td>7.4</td>\n",
       "      <td>324.31</td>\n",
       "      <td>22.7017</td>\n",
       "      <td>347.0117</td>\n",
       "      <td>22.7017</td>\n",
       "      <td>6.542056</td>\n",
       "    </tr>\n",
       "  </tbody>\n",
       "</table>\n",
       "</div>"
      ],
      "text/plain": [
       "    Invoice ID Branch       City Customer type  Gender  \\\n",
       "0  750-67-8428      A     Yangon        Member  Female   \n",
       "1  226-31-3081      C  Naypyitaw        Normal  Female   \n",
       "2  631-41-3108      A     Yangon        Normal    Male   \n",
       "\n",
       "             Product line  Unit price  Quantity      Date   Time      Payment  \\\n",
       "0       Health and beauty       74.69         7  1/5/2019  13:08      Ewallet   \n",
       "1  Electronic accessories       15.28         5  3/8/2019  10:29         Cash   \n",
       "2      Home and lifestyle       46.33         7  3/3/2019  13:23  Credit card   \n",
       "\n",
       "     cogs  Rating  Total (Before Taxes)   Tax 7%     Total  gross income  \\\n",
       "0  522.83     9.1                522.83  36.5981  559.4281       36.5981   \n",
       "1   76.40     9.6                 76.40   5.3480   81.7480        5.3480   \n",
       "2  324.31     7.4                324.31  22.7017  347.0117       22.7017   \n",
       "\n",
       "   gross margin percentage  \n",
       "0                 6.542056  \n",
       "1                 6.542056  \n",
       "2                 6.542056  "
      ]
     },
     "execution_count": 168,
     "metadata": {},
     "output_type": "execute_result"
    }
   ],
   "source": [
    "# df['gross margin percentage'] = ...\n",
    "df['gross margin percentage'] = df['gross income'] / df['Total'] * 100\n",
    "df.head(3)"
   ]
  },
  {
   "cell_type": "markdown",
   "id": "a5406486",
   "metadata": {},
   "source": [
    "## Exercise 1.6\n",
    "> Create a new column `hour` that is the hour of the day extracted from the column `Time`"
   ]
  },
  {
   "cell_type": "code",
   "execution_count": 169,
   "id": "809dad06",
   "metadata": {},
   "outputs": [
    {
     "data": {
      "text/html": [
       "<div>\n",
       "<style scoped>\n",
       "    .dataframe tbody tr th:only-of-type {\n",
       "        vertical-align: middle;\n",
       "    }\n",
       "\n",
       "    .dataframe tbody tr th {\n",
       "        vertical-align: top;\n",
       "    }\n",
       "\n",
       "    .dataframe thead th {\n",
       "        text-align: right;\n",
       "    }\n",
       "</style>\n",
       "<table border=\"1\" class=\"dataframe\">\n",
       "  <thead>\n",
       "    <tr style=\"text-align: right;\">\n",
       "      <th></th>\n",
       "      <th>Invoice ID</th>\n",
       "      <th>Branch</th>\n",
       "      <th>City</th>\n",
       "      <th>Customer type</th>\n",
       "      <th>Gender</th>\n",
       "      <th>Product line</th>\n",
       "      <th>Unit price</th>\n",
       "      <th>Quantity</th>\n",
       "      <th>Date</th>\n",
       "      <th>Time</th>\n",
       "      <th>Payment</th>\n",
       "      <th>cogs</th>\n",
       "      <th>Rating</th>\n",
       "      <th>Total (Before Taxes)</th>\n",
       "      <th>Tax 7%</th>\n",
       "      <th>Total</th>\n",
       "      <th>gross income</th>\n",
       "      <th>gross margin percentage</th>\n",
       "      <th>hour</th>\n",
       "    </tr>\n",
       "  </thead>\n",
       "  <tbody>\n",
       "    <tr>\n",
       "      <th>0</th>\n",
       "      <td>750-67-8428</td>\n",
       "      <td>A</td>\n",
       "      <td>Yangon</td>\n",
       "      <td>Member</td>\n",
       "      <td>Female</td>\n",
       "      <td>Health and beauty</td>\n",
       "      <td>74.69</td>\n",
       "      <td>7</td>\n",
       "      <td>1/5/2019</td>\n",
       "      <td>13:08</td>\n",
       "      <td>Ewallet</td>\n",
       "      <td>522.83</td>\n",
       "      <td>9.1</td>\n",
       "      <td>522.83</td>\n",
       "      <td>36.5981</td>\n",
       "      <td>559.4281</td>\n",
       "      <td>36.5981</td>\n",
       "      <td>6.542056</td>\n",
       "      <td>13</td>\n",
       "    </tr>\n",
       "    <tr>\n",
       "      <th>1</th>\n",
       "      <td>226-31-3081</td>\n",
       "      <td>C</td>\n",
       "      <td>Naypyitaw</td>\n",
       "      <td>Normal</td>\n",
       "      <td>Female</td>\n",
       "      <td>Electronic accessories</td>\n",
       "      <td>15.28</td>\n",
       "      <td>5</td>\n",
       "      <td>3/8/2019</td>\n",
       "      <td>10:29</td>\n",
       "      <td>Cash</td>\n",
       "      <td>76.40</td>\n",
       "      <td>9.6</td>\n",
       "      <td>76.40</td>\n",
       "      <td>5.3480</td>\n",
       "      <td>81.7480</td>\n",
       "      <td>5.3480</td>\n",
       "      <td>6.542056</td>\n",
       "      <td>10</td>\n",
       "    </tr>\n",
       "    <tr>\n",
       "      <th>2</th>\n",
       "      <td>631-41-3108</td>\n",
       "      <td>A</td>\n",
       "      <td>Yangon</td>\n",
       "      <td>Normal</td>\n",
       "      <td>Male</td>\n",
       "      <td>Home and lifestyle</td>\n",
       "      <td>46.33</td>\n",
       "      <td>7</td>\n",
       "      <td>3/3/2019</td>\n",
       "      <td>13:23</td>\n",
       "      <td>Credit card</td>\n",
       "      <td>324.31</td>\n",
       "      <td>7.4</td>\n",
       "      <td>324.31</td>\n",
       "      <td>22.7017</td>\n",
       "      <td>347.0117</td>\n",
       "      <td>22.7017</td>\n",
       "      <td>6.542056</td>\n",
       "      <td>13</td>\n",
       "    </tr>\n",
       "  </tbody>\n",
       "</table>\n",
       "</div>"
      ],
      "text/plain": [
       "    Invoice ID Branch       City Customer type  Gender  \\\n",
       "0  750-67-8428      A     Yangon        Member  Female   \n",
       "1  226-31-3081      C  Naypyitaw        Normal  Female   \n",
       "2  631-41-3108      A     Yangon        Normal    Male   \n",
       "\n",
       "             Product line  Unit price  Quantity      Date   Time      Payment  \\\n",
       "0       Health and beauty       74.69         7  1/5/2019  13:08      Ewallet   \n",
       "1  Electronic accessories       15.28         5  3/8/2019  10:29         Cash   \n",
       "2      Home and lifestyle       46.33         7  3/3/2019  13:23  Credit card   \n",
       "\n",
       "     cogs  Rating  Total (Before Taxes)   Tax 7%     Total  gross income  \\\n",
       "0  522.83     9.1                522.83  36.5981  559.4281       36.5981   \n",
       "1   76.40     9.6                 76.40   5.3480   81.7480        5.3480   \n",
       "2  324.31     7.4                324.31  22.7017  347.0117       22.7017   \n",
       "\n",
       "   gross margin percentage hour  \n",
       "0                 6.542056   13  \n",
       "1                 6.542056   10  \n",
       "2                 6.542056   13  "
      ]
     },
     "execution_count": 169,
     "metadata": {},
     "output_type": "execute_result"
    }
   ],
   "source": [
    "# df['hour'] = ...\n",
    "df['hour'] = df['Time'].apply(lambda row: row.split(':')[0]) # day of the month\n",
    "df.head(3)"
   ]
  },
  {
   "cell_type": "markdown",
   "id": "df9bb242",
   "metadata": {},
   "source": [
    "# Exercise 2 - Masking"
   ]
  },
  {
   "cell_type": "markdown",
   "id": "6bff0750",
   "metadata": {},
   "source": [
    "## Exercise 2.1 \n",
    "> What is the median payment gross income the supermarket company has from men?"
   ]
  },
  {
   "cell_type": "code",
   "execution_count": 170,
   "id": "1902941b",
   "metadata": {},
   "outputs": [
    {
     "data": {
      "text/plain": [
       "16.28200000000001"
      ]
     },
     "execution_count": 170,
     "metadata": {},
     "output_type": "execute_result"
    }
   ],
   "source": [
    "# gross_income_from_men = ...\n",
    "gross_income_from_men = df[df['Gender']=='Male']['gross income'].median()\n",
    "gross_income_from_men"
   ]
  },
  {
   "cell_type": "markdown",
   "id": "900cfac1",
   "metadata": {},
   "source": [
    "## Exercise 2.2\n",
    "> How many purchases does the store in City `Mandalay` have?"
   ]
  },
  {
   "cell_type": "code",
   "execution_count": 171,
   "id": "cdce1b84",
   "metadata": {},
   "outputs": [
    {
     "data": {
      "text/plain": [
       "332"
      ]
     },
     "execution_count": 171,
     "metadata": {},
     "output_type": "execute_result"
    }
   ],
   "source": [
    "# n_purchases_mandalay = ...\n",
    "n_purchases_mandalay = df[df['City']=='Mandalay']['Invoice ID'].value_counts().sum()\n",
    "n_purchases_mandalay"
   ]
  },
  {
   "cell_type": "markdown",
   "id": "ecc25622",
   "metadata": {},
   "source": [
    "## Exercise 2.3\n",
    "\n",
    "> What is the average rating of `Member` costumers in the store `Yangon`"
   ]
  },
  {
   "cell_type": "code",
   "execution_count": 172,
   "id": "b9434c37",
   "metadata": {},
   "outputs": [
    {
     "data": {
      "text/plain": [
       "6.940319361277445"
      ]
     },
     "execution_count": 172,
     "metadata": {},
     "output_type": "execute_result"
    }
   ],
   "source": [
    "# avg_rating_member_yagon = ...\n",
    "df_yagon = df[df['City']=='Yagon']\n",
    "avg_rating_member_yagon = df[df['Customer type']=='Member']['Rating'].mean()\n",
    "avg_rating_member_yagon"
   ]
  },
  {
   "cell_type": "markdown",
   "id": "bdacf21e",
   "metadata": {},
   "source": [
    "## Exercise 2.4\n",
    "what is the `Invoice ID` of the the most expensive purchase (`Total`) made in the morning (in other words: until, not including, 12 o´clock)"
   ]
  },
  {
   "cell_type": "code",
   "execution_count": 173,
   "id": "198dfda5",
   "metadata": {},
   "outputs": [
    {
     "data": {
      "text/plain": [
       "'325-77-6186'"
      ]
     },
     "execution_count": 173,
     "metadata": {},
     "output_type": "execute_result"
    }
   ],
   "source": [
    "# invoice_id = \n",
    "morning_purchases = df[df['hour']<='12']\n",
    "index = morning_purchases['Total'].idxmax()\n",
    "df.loc[index,'Invoice ID']"
   ]
  },
  {
   "cell_type": "markdown",
   "id": "fe052d8f",
   "metadata": {},
   "source": [
    "## Exercise 2.5\n",
    "> What is the product line `Women` buy most often at night (between 19h and 24h, all inclusive)"
   ]
  },
  {
   "cell_type": "code",
   "execution_count": 174,
   "id": "b5cbbd18",
   "metadata": {},
   "outputs": [
    {
     "data": {
      "text/plain": [
       "'Food and beverages'"
      ]
     },
     "execution_count": 174,
     "metadata": {},
     "output_type": "execute_result"
    }
   ],
   "source": [
    "# ...\n",
    "night_purchases = df[df['hour']>='19']\n",
    "women_night_purchases = night_purchases[night_purchases['Gender']=='Female']\n",
    "women_night_products = women_night_purchases['Product line'].value_counts()\n",
    "Most_Bought_Women_Night = women_night_products.idxmax()\n",
    "Most_Bought_Women_Night"
   ]
  },
  {
   "cell_type": "markdown",
   "id": "f43f60c9",
   "metadata": {},
   "source": [
    "## Exercise 2.6\n",
    "> How many purchases were made by women in both `Health and beauty` and `Home and Lifestyle` `Product lines`? "
   ]
  },
  {
   "cell_type": "code",
   "execution_count": 175,
   "id": "4402d9f6",
   "metadata": {},
   "outputs": [
    {
     "data": {
      "text/plain": [
       "Product line\n",
       "Fashion accessories       96\n",
       "Food and beverages        90\n",
       "Sports and travel         88\n",
       "Electronic accessories    84\n",
       "Home and lifestyle        79\n",
       "Health and beauty         64\n",
       "Name: count, dtype: int64"
      ]
     },
     "execution_count": 175,
     "metadata": {},
     "output_type": "execute_result"
    },
    {
     "data": {
      "text/plain": [
       "143"
      ]
     },
     "execution_count": 175,
     "metadata": {},
     "output_type": "execute_result"
    }
   ],
   "source": [
    "# n_purchases = \n",
    "women_purchases = df[df['Gender']=='Female']\n",
    "women_purchase_counts = women_purchases['Product line'].value_counts()\n",
    "women_purchase_counts\n",
    "index_h_b = women_purchase_counts.index.tolist().index(\"Health and beauty\")\n",
    "index_l_s = women_purchase_counts.index.tolist().index(\"Home and lifestyle\")\n",
    "n_purchases = women_purchase_counts.iloc[index_h_b] + women_purchase_counts.iloc[index_l_s]\n",
    "n_purchases\n"
   ]
  },
  {
   "cell_type": "markdown",
   "id": "c2f5c408",
   "metadata": {},
   "source": [
    "# Exercise 3 - Groupbys"
   ]
  },
  {
   "cell_type": "markdown",
   "id": "995542ad",
   "metadata": {},
   "source": [
    "## Exercise 3.1\n",
    "> what is the average `Total` by gender?"
   ]
  },
  {
   "cell_type": "code",
   "execution_count": 176,
   "id": "0ae9568c",
   "metadata": {},
   "outputs": [
    {
     "data": {
      "text/plain": [
       "Gender\n",
       "Female    341.478433\n",
       "Male      316.709021\n",
       "Name: Total, dtype: float64"
      ]
     },
     "execution_count": 176,
     "metadata": {},
     "output_type": "execute_result"
    }
   ],
   "source": [
    "# ...\n",
    "total_expenses = df.groupby('Gender')['Total'].mean()\n",
    "total_expenses"
   ]
  },
  {
   "cell_type": "markdown",
   "id": "df1041dd",
   "metadata": {},
   "source": [
    "## Exercise 3.1 b)\n",
    "> use a bar plot to show the previous result"
   ]
  },
  {
   "cell_type": "code",
   "execution_count": 177,
   "id": "1cb3fe11",
   "metadata": {},
   "outputs": [
    {
     "data": {
      "text/plain": [
       "<Axes: title={'center': 'Average Total Expense By Gender'}, xlabel='Gender', ylabel='Total'>"
      ]
     },
     "execution_count": 177,
     "metadata": {},
     "output_type": "execute_result"
    },
    {
     "data": {
      "image/png": "[encoded data removed]",
      "text/plain": [
       "<Figure size 640x480 with 1 Axes>"
      ]
     },
     "metadata": {},
     "output_type": "display_data"
    }
   ],
   "source": [
    "# ...\n",
    "total_expenses.plot.bar(title='Average Total Expense By Gender',ylabel = 'Total')"
   ]
  },
  {
   "cell_type": "markdown",
   "id": "5b42a1bc",
   "metadata": {},
   "source": [
    "## Exercise 3.2\n",
    "> What is the average Rating by City?"
   ]
  },
  {
   "cell_type": "code",
   "execution_count": 178,
   "id": "0f56f2c8",
   "metadata": {},
   "outputs": [
    {
     "data": {
      "text/plain": [
       "City\n",
       "Mandalay     6.818072\n",
       "Naypyitaw    7.072866\n",
       "Yangon       7.027059\n",
       "Name: Rating, dtype: float64"
      ]
     },
     "execution_count": 178,
     "metadata": {},
     "output_type": "execute_result"
    }
   ],
   "source": [
    "# ...\n",
    "avg_city_ratings = df.groupby('City')['Rating'].mean()\n",
    "avg_city_ratings"
   ]
  },
  {
   "cell_type": "markdown",
   "id": "f9ee4f4d",
   "metadata": {},
   "source": [
    "## Exercise 3.2 b)\n",
    "> use a bar plot to show the previous result"
   ]
  },
  {
   "cell_type": "code",
   "execution_count": 179,
   "id": "80c11615",
   "metadata": {},
   "outputs": [
    {
     "data": {
      "text/plain": [
       "<Axes: title={'center': 'Average Rating of Each City'}, xlabel='City', ylabel='Average Ratings'>"
      ]
     },
     "execution_count": 179,
     "metadata": {},
     "output_type": "execute_result"
    },
    {
     "data": {
      "image/png": "[encoded data removed]",
      "text/plain": [
       "<Figure size 640x480 with 1 Axes>"
      ]
     },
     "metadata": {},
     "output_type": "display_data"
    }
   ],
   "source": [
    "# ...\n",
    "avg_city_ratings.plot.bar(title = 'Average Rating of Each City',ylabel = 'Average Ratings')"
   ]
  },
  {
   "cell_type": "markdown",
   "id": "25f03c7a",
   "metadata": {},
   "source": [
    "## Exercise 3.3\n",
    "> What is the `Product line` that sells most items (i.e. `Quantities`) "
   ]
  },
  {
   "cell_type": "code",
   "execution_count": 180,
   "id": "1d90dc50-2302-4fb8-b341-c4c92d2f1020",
   "metadata": {},
   "outputs": [
    {
     "data": {
      "text/plain": [
       "'Fashion accessories'"
      ]
     },
     "execution_count": 180,
     "metadata": {},
     "output_type": "execute_result"
    }
   ],
   "source": [
    "# ..\n",
    "# \n",
    "top_product_line = df.groupby('Product line').size().idxmax()\n",
    "top_product_line\n"
   ]
  },
  {
   "cell_type": "markdown",
   "id": "41602047",
   "metadata": {},
   "source": [
    "## Exercise 3.4 \n",
    "> What is the activity of customers throughout the day?\n",
    "\n",
    "Compute the number of invoices at each hour of the day"
   ]
  },
  {
   "cell_type": "code",
   "execution_count": 181,
   "id": "954e5f1b",
   "metadata": {},
   "outputs": [],
   "source": [
    "# ...\n",
    "hourly_invoices = df.groupby('hour').size()"
   ]
  },
  {
   "cell_type": "markdown",
   "id": "6f2db921",
   "metadata": {},
   "source": [
    "## Exercise 3.4 b)\n",
    "> use a bar plot to show the previous result"
   ]
  },
  {
   "cell_type": "code",
   "execution_count": 182,
   "id": "b79b7dfc",
   "metadata": {},
   "outputs": [
    {
     "data": {
      "text/plain": [
       "<Axes: title={'center': 'Total Invoices During Each Hour'}, xlabel='hour', ylabel='Total Invoices'>"
      ]
     },
     "execution_count": 182,
     "metadata": {},
     "output_type": "execute_result"
    },
    {
     "data": {
      "image/png": "[encoded data removed]",
      "text/plain": [
       "<Figure size 640x480 with 1 Axes>"
      ]
     },
     "metadata": {},
     "output_type": "display_data"
    }
   ],
   "source": [
    "# ...\n",
    "hourly_invoices.plot.bar(title = 'Total Invoices During Each Hour',ylabel = 'Total Invoices')"
   ]
  },
  {
   "cell_type": "markdown",
   "id": "e984d28c",
   "metadata": {},
   "source": [
    "## Exercise 3.5\n",
    "> For each city, what is the `Invoice ID` of the highest `gross margin` sale?"
   ]
  },
  {
   "cell_type": "code",
   "execution_count": 198,
   "id": "9d6645a7",
   "metadata": {},
   "outputs": [
    {
     "name": "stderr",
     "output_type": "stream",
     "text": [
      "C:\\Users\\sailo\\AppData\\Local\\Temp\\ipykernel_23728\\2321121699.py:3: DeprecationWarning: DataFrameGroupBy.apply operated on the grouping columns. This behavior is deprecated, and in a future version of pandas the grouping columns will be excluded from the operation. Either pass `include_groups=False` to exclude the groupings or explicitly select the grouping columns after groupby to silence this warning.\n",
      "  .apply(lambda subdf: subdf.loc[subdf['gross margin percentage'].idxmax(),'Invoice ID']) # This is what we had already\n"
     ]
    },
    {
     "data": {
      "text/plain": [
       "City\n",
       "Mandalay     873-95-4984\n",
       "Naypyitaw    592-46-1692\n",
       "Yangon       272-65-1806\n",
       "dtype: object"
      ]
     },
     "execution_count": 198,
     "metadata": {},
     "output_type": "execute_result"
    }
   ],
   "source": [
    "(df\n",
    " .groupby('City')\n",
    " .apply(lambda subdf: subdf.loc[subdf['gross margin percentage'].idxmax(),'Invoice ID']) # This is what we had already\n",
    ")"
   ]
  },
  {
   "cell_type": "markdown",
   "id": "758f8e48",
   "metadata": {},
   "source": [
    "## Exercise 3.6\n",
    "\n",
    "> For each customer type, what is the average rating on each Product line?\n",
    "\n",
    "Try passing a list of columns to the `.groupby` method, and compute the average `rating` of that groupby"
   ]
  },
  {
   "cell_type": "code",
   "execution_count": 184,
   "id": "f29f4bdb",
   "metadata": {},
   "outputs": [
    {
     "data": {
      "text/plain": [
       "Customer type\n",
       "Member    6.940319\n",
       "Normal    7.005210\n",
       "Name: Rating, dtype: float64"
      ]
     },
     "execution_count": 184,
     "metadata": {},
     "output_type": "execute_result"
    }
   ],
   "source": [
    "df.groupby('Customer type')['Rating'].mean()"
   ]
  },
  {
   "cell_type": "markdown",
   "id": "425ec066",
   "metadata": {},
   "source": []
  }
 ],
 "metadata": {
  "kernelspec": {
   "display_name": "base",
   "language": "python",
   "name": "python3"
  },
  "language_info": {
   "codemirror_mode": {
    "name": "ipython",
    "version": 3
   },
   "file_extension": ".py",
   "mimetype": "text/x-python",
   "name": "python",
   "nbconvert_exporter": "python",
   "pygments_lexer": "ipython3",
   "version": "3.12.4"
  },
  "toc-autonumbering": false,
  "toc-showcode": false,
  "toc-showmarkdowntxt": false
 },
 "nbformat": 4,
 "nbformat_minor": 5
}
