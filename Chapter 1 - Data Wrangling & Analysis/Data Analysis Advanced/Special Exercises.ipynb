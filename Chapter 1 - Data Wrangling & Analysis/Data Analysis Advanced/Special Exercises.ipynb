{
 "cells": [
  {
   "cell_type": "markdown",
   "metadata": {},
   "source": [
    "This dataset contains annotations about spans of text where clinical notes contain Personaly Identifiable Information (PIIs). \n",
    "\n",
    "Some notes won't contain any PIIs (column `label`), while others will have a list of findings. Each finding is a list with the start position, end position, and the PII category found in the text.\n",
    "\n",
    "\n",
    "This notebook and the respective data are in the following directory: `Data Wrangling/Data Wrangling - Pandas-Advanced/Data Analysis Advanced/`"
   ]
  },
  {
   "cell_type": "markdown",
   "metadata": {},
   "source": [
    "# Exercise 0 - Load the data\n",
    "\n",
    "you have two files under `data` folder:\n",
    "- annotations.csv\n",
    "- note_types.csv"
   ]
  },
  {
   "cell_type": "code",
   "execution_count": 9,
   "metadata": {},
   "outputs": [],
   "source": [
    "from IPython.core.interactiveshell import InteractiveShell\n",
    "InteractiveShell.ast_node_interactivity = \"all\"\n",
    "\n",
    "import pandas as pd\n",
    "import matplotlib.pyplot as plt\n",
    "\n",
    "#df_annot = ...\n",
    "#df_note_types = ...\n",
    "df_annot = pd.read_csv('./data/annotations.csv')\n",
    "df_note_types = pd.read_csv('./data/note_types.csv')"
   ]
  },
  {
   "cell_type": "markdown",
   "metadata": {},
   "source": [
    "# Exercise 1 - Basic Stats\n",
    "\n",
    "> How many notes did not contain any PIIs?\n",
    "\n",
    "\n",
    "Your output should be an integer with the total count of notes without any PII information"
   ]
  },
  {
   "cell_type": "code",
   "execution_count": 10,
   "metadata": {},
   "outputs": [
    {
     "name": "stderr",
     "output_type": "stream",
     "text": [
      "C:\\Users\\sailo\\AppData\\Local\\Temp\\ipykernel_20068\\2092888074.py:4: FutureWarning: Series.__getitem__ treating keys as positions is deprecated. In a future version, integer keys will always be treated as labels (consistent with DataFrame behavior). To access a value by position, use `ser.iloc[pos]`\n",
      "  PII_type[index]\n"
     ]
    },
    {
     "data": {
      "text/plain": [
       "41"
      ]
     },
     "execution_count": 10,
     "metadata": {},
     "output_type": "execute_result"
    }
   ],
   "source": [
    "# Your code here\n",
    "PII_type = df_annot.groupby('label').size()\n",
    "index = PII_type.index.tolist().index('[]')\n",
    "PII_type[index]\n"
   ]
  },
  {
   "cell_type": "markdown",
   "metadata": {},
   "source": [
    "# Exercise 1 b) Distribution of PII length\n",
    "\n",
    "What is the average length of each PII? And maximum lenght? And minimum?\n",
    "\n",
    "Your output should be a pandas dataframe where the index values are the unique PII categories, and the columns should be the `mean`, `median`, `max`, `min` of the PII length for its respective category\n"
   ]
  },
  {
   "cell_type": "code",
   "execution_count": 16,
   "metadata": {},
   "outputs": [
    {
     "data": {
      "text/plain": [
       "label\n",
       "[[0, 10, 'Date'], [12, 14, 'Age']]                                                                                                                                                                                                                                                                                                                                                 1\n",
       "[[122, 137, 'Date']]                                                                                                                                                                                                                                                                                                                                                               1\n",
       "[[165, 190, 'Person Name'], [364, 368, 'Date'], [394, 402, 'Date'], [948, 962, 'Person Name'], [969, 990, 'Person Name'], [1187, 1191, 'Date']]                                                                                                                                                                                                                                    1\n",
       "[[20, 35, 'Person Name'], [353, 364, 'Person Name'], [459, 464, 'Date']]                                                                                                                                                                                                                                                                                                           1\n",
       "[[246, 253, 'Date'], [290, 297, 'Date'], [770, 774, 'Date']]                                                                                                                                                                                                                                                                                                                       1\n",
       "[[32, 34, 'Age'], [51, 58, 'Location'], [73, 81, 'Location'], [423, 433, 'Date'], [563, 573, 'Date'], [686, 696, 'Date']]                                                                                                                                                                                                                                                          1\n",
       "[[414, 418, 'Date']]                                                                                                                                                                                                                                                                                                                                                               1\n",
       "[[42, 46, 'Date'], [147, 151, 'Date'], [329, 334, 'Date'], [389, 394, 'Date'], [479, 484, 'Date'], [493, 496, 'Date']]                                                                                                                                                                                                                                                             1\n",
       "[[421, 425, 'Date']]                                                                                                                                                                                                                                                                                                                                                               1\n",
       "[[477, 491, 'Person Name'], [570, 582, 'Person Name'], [585, 596, 'Phone Number'], [616, 621, 'Date']]                                                                                                                                                                                                                                                                             1\n",
       "[[488, 493, 'Date']]                                                                                                                                                                                                                                                                                                                                                               1\n",
       "[[50, 54, 'Date'], [132, 135, 'Date'], [143, 147, 'Date'], [173, 178, 'Date'], [193, 198, 'Date'], [381, 385, 'Date'], [434, 438, 'Date'], [476, 480, 'Date'], [534, 539, 'Date'], [570, 575, 'Date'], [581, 592, 'Date'], [677, 688, 'Person Name'], [697, 701, 'Date'], [707, 719, 'Date'], [923, 926, 'Date'], [933, 937, 'Date'], [943, 954, 'Date'], [998, 1003, 'Date']]     1\n",
       "[[523, 535, 'Date'], [889, 893, 'Date'], [1016, 1020, 'Date']]                                                                                                                                                                                                                                                                                                                     1\n",
       "[[55, 62, 'Date']]                                                                                                                                                                                                                                                                                                                                                                 1\n",
       "[[62, 64, 'Age']]                                                                                                                                                                                                                                                                                                                                                                  1\n",
       "[]                                                                                                                                                                                                                                                                                                                                                                                41\n",
       "dtype: int64"
      ]
     },
     "execution_count": 16,
     "metadata": {},
     "output_type": "execute_result"
    }
   ],
   "source": [
    "PII_type"
   ]
  },
  {
   "cell_type": "code",
   "execution_count": null,
   "metadata": {},
   "outputs": [
    {
     "data": {
      "text/plain": [
       "0                                                    []\n",
       "1                                                    []\n",
       "2                                    [[488, 493, Date]]\n",
       "3                                                    []\n",
       "4                                                    []\n",
       "5                                                    []\n",
       "6                                                    []\n",
       "7                                                    []\n",
       "8                                      [[55, 62, Date]]\n",
       "9                                                    []\n",
       "10                                                   []\n",
       "11                                                   []\n",
       "12    [[246, 253, Date], [290, 297, Date], [770, 774...\n",
       "13                                                   []\n",
       "14    [[165, 190, Person Name], [364, 368, Date], [3...\n",
       "15                                                   []\n",
       "16                                                   []\n",
       "17                                                   []\n",
       "18                                                   []\n",
       "19                                                   []\n",
       "20                                                   []\n",
       "21                                                   []\n",
       "22                                                   []\n",
       "23                                                   []\n",
       "24                                                   []\n",
       "25                                   [[414, 418, Date]]\n",
       "26    [[523, 535, Date], [889, 893, Date], [1016, 10...\n",
       "27                                                   []\n",
       "28                                   [[421, 425, Date]]\n",
       "29                                                   []\n",
       "30                                                   []\n",
       "31                                                   []\n",
       "32                                                   []\n",
       "33                                      [[62, 64, Age]]\n",
       "34                                                   []\n",
       "35    [[32, 34, Age], [51, 58, Location], [73, 81, L...\n",
       "36                                                   []\n",
       "37                                   [[122, 137, Date]]\n",
       "38    [[42, 46, Date], [147, 151, Date], [329, 334, ...\n",
       "39                                                   []\n",
       "40                                                   []\n",
       "41                                                   []\n",
       "42    [[20, 35, Person Name], [353, 364, Person Name...\n",
       "43                                                   []\n",
       "44                                                   []\n",
       "45                                                   []\n",
       "46                                                   []\n",
       "47                                                   []\n",
       "48    [[477, 491, Person Name], [570, 582, Person Na...\n",
       "49                                                   []\n",
       "50                                                   []\n",
       "51                       [[0, 10, Date], [12, 14, Age]]\n",
       "52                                                   []\n",
       "53    [[50, 54, Date], [132, 135, Date], [143, 147, ...\n",
       "54                                                   []\n",
       "55                                                   []\n",
       "Name: label, dtype: object"
      ]
     },
     "execution_count": 43,
     "metadata": {},
     "output_type": "execute_result"
    }
   ],
   "source": [
    "import ast\n",
    "\n",
    "label_list = df_annot.label.apply(ast.literal_eval)\n",
    "label_list\n",
    "df_annot.label.apply(lambda annotations: {annot[2]:})"
   ]
  },
  {
   "cell_type": "code",
   "execution_count": 41,
   "metadata": {},
   "outputs": [
    {
     "data": {
      "text/plain": [
       "0     Empty DataFrame\n",
       "Columns: [Category, Length]\n",
       "In...\n",
       "1     Empty DataFrame\n",
       "Columns: [Category, Length]\n",
       "In...\n",
       "2     Empty DataFrame\n",
       "Columns: [Category, Length]\n",
       "In...\n",
       "3     Empty DataFrame\n",
       "Columns: [Category, Length]\n",
       "In...\n",
       "4     Empty DataFrame\n",
       "Columns: [Category, Length]\n",
       "In...\n",
       "5     Empty DataFrame\n",
       "Columns: [Category, Length]\n",
       "In...\n",
       "6     Empty DataFrame\n",
       "Columns: [Category, Length]\n",
       "In...\n",
       "7     Empty DataFrame\n",
       "Columns: [Category, Length]\n",
       "In...\n",
       "8     Empty DataFrame\n",
       "Columns: [Category, Length]\n",
       "In...\n",
       "9     Empty DataFrame\n",
       "Columns: [Category, Length]\n",
       "In...\n",
       "10    Empty DataFrame\n",
       "Columns: [Category, Length]\n",
       "In...\n",
       "11    Empty DataFrame\n",
       "Columns: [Category, Length]\n",
       "In...\n",
       "12    Empty DataFrame\n",
       "Columns: [Category, Length]\n",
       "In...\n",
       "13    Empty DataFrame\n",
       "Columns: [Category, Length]\n",
       "In...\n",
       "14    Empty DataFrame\n",
       "Columns: [Category, Length]\n",
       "In...\n",
       "15    Empty DataFrame\n",
       "Columns: [Category, Length]\n",
       "In...\n",
       "16    Empty DataFrame\n",
       "Columns: [Category, Length]\n",
       "In...\n",
       "17    Empty DataFrame\n",
       "Columns: [Category, Length]\n",
       "In...\n",
       "18    Empty DataFrame\n",
       "Columns: [Category, Length]\n",
       "In...\n",
       "19    Empty DataFrame\n",
       "Columns: [Category, Length]\n",
       "In...\n",
       "20    Empty DataFrame\n",
       "Columns: [Category, Length]\n",
       "In...\n",
       "21    Empty DataFrame\n",
       "Columns: [Category, Length]\n",
       "In...\n",
       "22    Empty DataFrame\n",
       "Columns: [Category, Length]\n",
       "In...\n",
       "23    Empty DataFrame\n",
       "Columns: [Category, Length]\n",
       "In...\n",
       "24    Empty DataFrame\n",
       "Columns: [Category, Length]\n",
       "In...\n",
       "25    Empty DataFrame\n",
       "Columns: [Category, Length]\n",
       "In...\n",
       "26    Empty DataFrame\n",
       "Columns: [Category, Length]\n",
       "In...\n",
       "27    Empty DataFrame\n",
       "Columns: [Category, Length]\n",
       "In...\n",
       "28    Empty DataFrame\n",
       "Columns: [Category, Length]\n",
       "In...\n",
       "29    Empty DataFrame\n",
       "Columns: [Category, Length]\n",
       "In...\n",
       "30    Empty DataFrame\n",
       "Columns: [Category, Length]\n",
       "In...\n",
       "31    Empty DataFrame\n",
       "Columns: [Category, Length]\n",
       "In...\n",
       "32    Empty DataFrame\n",
       "Columns: [Category, Length]\n",
       "In...\n",
       "33    Empty DataFrame\n",
       "Columns: [Category, Length]\n",
       "In...\n",
       "34    Empty DataFrame\n",
       "Columns: [Category, Length]\n",
       "In...\n",
       "35    Empty DataFrame\n",
       "Columns: [Category, Length]\n",
       "In...\n",
       "36    Empty DataFrame\n",
       "Columns: [Category, Length]\n",
       "In...\n",
       "37    Empty DataFrame\n",
       "Columns: [Category, Length]\n",
       "In...\n",
       "38    Empty DataFrame\n",
       "Columns: [Category, Length]\n",
       "In...\n",
       "39    Empty DataFrame\n",
       "Columns: [Category, Length]\n",
       "In...\n",
       "40    Empty DataFrame\n",
       "Columns: [Category, Length]\n",
       "In...\n",
       "41    Empty DataFrame\n",
       "Columns: [Category, Length]\n",
       "In...\n",
       "42    Empty DataFrame\n",
       "Columns: [Category, Length]\n",
       "In...\n",
       "43    Empty DataFrame\n",
       "Columns: [Category, Length]\n",
       "In...\n",
       "44    Empty DataFrame\n",
       "Columns: [Category, Length]\n",
       "In...\n",
       "45    Empty DataFrame\n",
       "Columns: [Category, Length]\n",
       "In...\n",
       "46    Empty DataFrame\n",
       "Columns: [Category, Length]\n",
       "In...\n",
       "47    Empty DataFrame\n",
       "Columns: [Category, Length]\n",
       "In...\n",
       "48    Empty DataFrame\n",
       "Columns: [Category, Length]\n",
       "In...\n",
       "49    Empty DataFrame\n",
       "Columns: [Category, Length]\n",
       "In...\n",
       "50    Empty DataFrame\n",
       "Columns: [Category, Length]\n",
       "In...\n",
       "51    Empty DataFrame\n",
       "Columns: [Category, Length]\n",
       "In...\n",
       "52    Empty DataFrame\n",
       "Columns: [Category, Length]\n",
       "In...\n",
       "53    Empty DataFrame\n",
       "Columns: [Category, Length]\n",
       "In...\n",
       "54    Empty DataFrame\n",
       "Columns: [Category, Length]\n",
       "In...\n",
       "55    Empty DataFrame\n",
       "Columns: [Category, Length]\n",
       "In...\n",
       "Name: label, dtype: object"
      ]
     },
     "execution_count": 41,
     "metadata": {},
     "output_type": "execute_result"
    }
   ],
   "source": [
    "# Your code here\n",
    "input = [[0, 10, 'Date'], [12, 14, 'Age'],[]]\n",
    "from typing import List\n",
    "def get_lengths(annotations: List):\n",
    "    data = {'Category': [],'Length': []}\n",
    "    PII_lengths = pd.DataFrame(data)\n",
    "    for i in range(len(annotations)):\n",
    "        if annotations[i] == 'label':\n",
    "            continue\n",
    "        m = 0\n",
    "        for j in range(len(annotations[i])):\n",
    "            if j == 0:\n",
    "                m = annotations[i][j]\n",
    "            elif j == 1:\n",
    "                m = annotations[i][j] - m\n",
    "            else:\n",
    "                annotations[i][j]\n",
    "                PII_lengths.loc[-1] = [annotations[i][j], m]  # adding a row\n",
    "                PII_lengths.index = PII_lengths.index + 1  # shifting index\n",
    "                PII_lengths = PII_lengths.sort_index()\n",
    "    return PII_lengths\n",
    "\n",
    "PII_length = df_annot['label'].apply(get_lengths)\n",
    "PII_length\n",
    "\n"
   ]
  },
  {
   "cell_type": "markdown",
   "metadata": {},
   "source": [
    "# Exercise 2 - What is the distribution of PIIs across the dataset\n",
    "\n",
    "Your output should be a pandas series with the unique PII categories as index and their respective count in the whole annotations data as values."
   ]
  },
  {
   "cell_type": "code",
   "execution_count": 1,
   "metadata": {},
   "outputs": [],
   "source": [
    "# Your code here"
   ]
  },
  {
   "cell_type": "markdown",
   "metadata": {},
   "source": [
    "# Exercise 3 - What is the count of PIIs across each note type?\n",
    "\n",
    "Your output should be a dataframe: the index contains the unique note types, the first column contains the number of clinical notes of this type, the second column contains the number of notes of this type **that have at least one PII**"
   ]
  },
  {
   "cell_type": "code",
   "execution_count": 2,
   "metadata": {},
   "outputs": [],
   "source": [
    "# Your code here"
   ]
  },
  {
   "cell_type": "markdown",
   "metadata": {},
   "source": [
    "# Exercise 3.1 - Give me percentages!\n",
    "\n",
    "Add a third column that contains the percentage of clinical notes with at least one PII across all clinical notes that have at least one PII."
   ]
  },
  {
   "cell_type": "code",
   "execution_count": 3,
   "metadata": {},
   "outputs": [],
   "source": [
    "# Your code here"
   ]
  },
  {
   "cell_type": "markdown",
   "metadata": {},
   "source": [
    "# Exercise 4 - Holistic view\n",
    "\n",
    "> Now we want to know the distribution of PII categories across each note type.\n",
    "\n",
    "Your output should be a dataframe with the unique note types in the index values, and the unique PII categories across the dataset"
   ]
  },
  {
   "cell_type": "code",
   "execution_count": 5,
   "metadata": {},
   "outputs": [],
   "source": [
    "# Your code here"
   ]
  }
 ],
 "metadata": {
  "kernelspec": {
   "display_name": "base",
   "language": "python",
   "name": "python3"
  },
  "language_info": {
   "codemirror_mode": {
    "name": "ipython",
    "version": 3
   },
   "file_extension": ".py",
   "mimetype": "text/x-python",
   "name": "python",
   "nbconvert_exporter": "python",
   "pygments_lexer": "ipython3",
   "version": "3.12.4"
  }
 },
 "nbformat": 4,
 "nbformat_minor": 2
}
