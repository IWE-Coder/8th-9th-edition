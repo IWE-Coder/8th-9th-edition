{
 "cells": [
  {
   "cell_type": "markdown",
   "id": "6c86d7ac",
   "metadata": {},
   "source": [
    "# Imports"
   ]
  },
  {
   "cell_type": "code",
   "execution_count": 2,
   "id": "3bd80b32",
   "metadata": {},
   "outputs": [],
   "source": [
    "import pandas as pd\n",
    "import numpy as np"
   ]
  },
  {
   "cell_type": "markdown",
   "id": "fd1ed19e",
   "metadata": {},
   "source": [
    "# Exercise 1.1 - Create a pandas Series from a list.\n",
    "\n",
    "Create a `list` with the names of the items given in the cell below. Then create a `Series` using that list, using the order provided.\n",
    "\n",
    "Note: Let pandas generate the index on its own."
   ]
  },
  {
   "cell_type": "code",
   "execution_count": 35,
   "id": "02b0f910",
   "metadata": {},
   "outputs": [],
   "source": [
    "# items (each of type string): beef, cheese, pulses, nuts, grains\n",
    "items_list = [\"beef\", \"cheese\", \"pulses\", \"nuts\", \"grains\"]\n",
    "\n",
    "# Create a series with the items above, and call it items_series\n",
    "# items_series = ...\n",
    "items_series = pd.Series(items_list)"
   ]
  },
  {
   "cell_type": "code",
   "execution_count": 36,
   "id": "30264427",
   "metadata": {},
   "outputs": [
    {
     "data": {
      "text/plain": [
       "0      beef\n",
       "1    cheese\n",
       "2    pulses\n",
       "3      nuts\n",
       "4    grains\n",
       "dtype: object"
      ]
     },
     "execution_count": 36,
     "metadata": {},
     "output_type": "execute_result"
    }
   ],
   "source": [
    "# run this cell to see the results \n",
    "items_series"
   ]
  },
  {
   "cell_type": "markdown",
   "id": "7633a1c3",
   "metadata": {},
   "source": [
    "# Exercise 1.2 - $CO_2$ equivalents\n",
    "\n",
    "Let's now use the `items_list` as index and build a Series containing the kg $CO_2$ equivalents per item (the amount of $CO_2$ corresponding to the warming effect of greenhouse gases emitted during production of the item, [ref](https://www.science.org/doi/10.1126/science.aaq0216))."
   ]
  },
  {
   "cell_type": "code",
   "execution_count": 5,
   "id": "83d0894d",
   "metadata": {},
   "outputs": [],
   "source": [
    "# kg CO2 equivalents of the foods in items_list:\n",
    "food_CO2 = np.array([50, 11, 0.8, 0.3, 2.7]) "
   ]
  },
  {
   "cell_type": "code",
   "execution_count": 33,
   "id": "933df4c0",
   "metadata": {},
   "outputs": [],
   "source": [
    "# Create a series which has items_list (created in exercise 1.1) as index, \n",
    "# and the respective value in the food_CO2 list given in the cell above as values.\n",
    "# CO2_eq = ...\n",
    "CO2_eq = pd.Series(index = items_list,data = food_CO2)\n"
   ]
  },
  {
   "cell_type": "code",
   "execution_count": 34,
   "id": "f2f189f3",
   "metadata": {},
   "outputs": [
    {
     "data": {
      "text/plain": [
       "beef      50.0\n",
       "cheese    11.0\n",
       "pulses     0.8\n",
       "nuts       0.3\n",
       "grains     2.7\n",
       "dtype: float64"
      ]
     },
     "execution_count": 34,
     "metadata": {},
     "output_type": "execute_result"
    }
   ],
   "source": [
    "# run this cell to see the results \n",
    "CO2_eq"
   ]
  },
  {
   "cell_type": "markdown",
   "id": "91602aac",
   "metadata": {},
   "source": [
    "# Exercise 1.3 - What is the $CO_2$ equivalent of a beef?\n",
    "\n",
    "**hint**: What makes more sense to use here `.loc` or `.iloc`?\n"
   ]
  },
  {
   "cell_type": "code",
   "execution_count": 22,
   "id": "782ee173",
   "metadata": {},
   "outputs": [
    {
     "data": {
      "text/plain": [
       "50.0"
      ]
     },
     "execution_count": 22,
     "metadata": {},
     "output_type": "execute_result"
    }
   ],
   "source": [
    "# beef_co2 = ...\n",
    "beef_co2 = CO2_eq.iloc[0]\n",
    "beef_co2"
   ]
  },
  {
   "cell_type": "markdown",
   "id": "4dd47968",
   "metadata": {},
   "source": [
    "# Exercise 1.4 - What is the $CO_2$ equivalent of the last item in our list?\n",
    "\n",
    "**hint**: What makes more sense to use here `.loc` or `.iloc`?"
   ]
  },
  {
   "cell_type": "code",
   "execution_count": 32,
   "id": "8af9b107",
   "metadata": {},
   "outputs": [
    {
     "data": {
      "text/plain": [
       "2.7"
      ]
     },
     "execution_count": 32,
     "metadata": {},
     "output_type": "execute_result"
    }
   ],
   "source": [
    "# last_item_co2 = ...\n",
    "last_item_co2 = CO2_eq.iloc[-1]\n",
    "last_item_co2"
   ]
  },
  {
   "cell_type": "markdown",
   "id": "f2a1a25a",
   "metadata": {},
   "source": [
    "# Exercise 1.5 - Create a Series from a dictionary\n",
    "\n",
    "You have a grocery store with items and their quantities. (this sounds familiar...)\n",
    "\n",
    "Create a dictionary to represent this data and then create a pandas series from that dictionary"
   ]
  },
  {
   "cell_type": "code",
   "execution_count": 29,
   "id": "ab79ee70",
   "metadata": {},
   "outputs": [],
   "source": [
    "# storage : 3 oranges, 2 bananas, 19 apples, 5 pears\n",
    "# storage_dictionary = ...\n",
    "\n",
    "# storage_series = ...\n",
    "storage_series = {\n",
    "    'Oranges': 3,\n",
    "    'Bananas': 2,\n",
    "    'Apples': 19,\n",
    "    'Pears': 5\n",
    "}"
   ]
  },
  {
   "cell_type": "code",
   "execution_count": 30,
   "id": "43745dc5",
   "metadata": {},
   "outputs": [
    {
     "data": {
      "text/plain": [
       "{'Oranges': 3, 'Bananas': 2, 'Apples': 19, 'Pears': 5}"
      ]
     },
     "execution_count": 30,
     "metadata": {},
     "output_type": "execute_result"
    }
   ],
   "source": [
    "storage_series"
   ]
  },
  {
   "cell_type": "code",
   "execution_count": null,
   "id": "0b5c4135",
   "metadata": {},
   "outputs": [],
   "source": []
  }
 ],
 "metadata": {
  "kernelspec": {
   "display_name": "base",
   "language": "python",
   "name": "python3"
  },
  "language_info": {
   "codemirror_mode": {
    "name": "ipython",
    "version": 3
   },
   "file_extension": ".py",
   "mimetype": "text/x-python",
   "name": "python",
   "nbconvert_exporter": "python",
   "pygments_lexer": "ipython3",
   "version": "3.12.4"
  }
 },
 "nbformat": 4,
 "nbformat_minor": 5
}
